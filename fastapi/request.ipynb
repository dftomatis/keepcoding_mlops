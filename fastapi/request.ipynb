{
 "cells": [
  {
   "cell_type": "code",
   "execution_count": 3,
   "id": "3780b799",
   "metadata": {},
   "outputs": [
    {
     "name": "stdout",
     "output_type": "stream",
     "text": [
      "{'mensaje': 'Hola, Juan!'}\n",
      "{'resultado': 49}\n",
      "{'es_par': True}\n",
      "{'sentiment': [{'label': 'POSITIVE', 'score': 0.9998775720596313}]}\n",
      "{'summary': [{'summary_text': ' Machine learning is a field of artificial intelligence that uses statistical techniques to give computer systems the ability to learn from data, without being explicitly programmed .'}]}\n"
     ]
    }
   ],
   "source": [
    "import requests\n",
    "\n",
    "# Saluda\n",
    "r = requests.get(\"http://127.0.0.1:8000/saluda?nombre=Juan\")\n",
    "print(r.json())\n",
    "\n",
    "# Cuadrado\n",
    "r = requests.get(\"http://127.0.0.1:8000/cuadrado?numero=7\")\n",
    "print(r.json())\n",
    "\n",
    "# Es par\n",
    "r = requests.get(\"http://127.0.0.1:8000/es_par?numero=4\")\n",
    "print(r.json())\n",
    "\n",
    "# Sentiment\n",
    "r = requests.post(\n",
    "    \"http://127.0.0.1:8000/sentiment\",\n",
    "    json={\"text\": \"I love this movie!\"}\n",
    ")\n",
    "print(r.json())\n",
    "\n",
    "# Summary\n",
    "r = requests.post(\n",
    "    \"http://127.0.0.1:8000/summary\",\n",
    "    json={\"text\": \"Machine learning is a field of artificial intelligence that uses statistical techniques to give computer systems the ability to learn from data, without being explicitly programmed.\"}\n",
    ")\n",
    "print(r.json())\n",
    "\n"
   ]
  }
 ],
 "metadata": {
  "kernelspec": {
   "display_name": "Python 3",
   "language": "python",
   "name": "python3"
  },
  "language_info": {
   "codemirror_mode": {
    "name": "ipython",
    "version": 3
   },
   "file_extension": ".py",
   "mimetype": "text/x-python",
   "name": "python",
   "nbconvert_exporter": "python",
   "pygments_lexer": "ipython3",
   "version": "3.10.18"
  }
 },
 "nbformat": 4,
 "nbformat_minor": 5
}
